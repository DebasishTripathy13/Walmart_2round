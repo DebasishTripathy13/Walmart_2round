{
  "cells": [
    {
      "cell_type": "markdown",
      "metadata": {},
      "source": [
        "* WALMART HACKATHON ROUND 2"
      ]
    },
    {
      "cell_type": "code",
      "execution_count": null,
      "metadata": {
        "execution": {
          "iopub.execute_input": "2024-04-03T07:27:20.155347Z",
          "iopub.status.busy": "2024-04-03T07:27:20.154968Z",
          "iopub.status.idle": "2024-04-03T08:05:13.585609Z",
          "shell.execute_reply": "2024-04-03T08:05:13.58301Z",
          "shell.execute_reply.started": "2024-04-03T07:27:20.155315Z"
        },
        "id": "z1NeLvFVTrtE",
        "outputId": "e0f13a16-c094-47be-cc9d-a0456102e33d",
        "trusted": true
      },
      "outputs": [
        {
          "name": "stdout",
          "output_type": "stream",
          "text": [
            "Model used is: Random Forest classifier\n",
            "The accuracy is 0.8645274245761978\n",
            "The precision is 0.9724285051075976\n",
            "The recall is 0.750438127179142\n",
            "The F1-Score is 0.8471316496738619\n",
            "The Matthews correlation coefficient is 0.7488653018393554\n",
            "Confusion Matrix:\n",
            "[[1435794   31239]\n",
            " [ 366402 1101779]]\n"
          ]
        }
      ],
      "source": [
        "import os\n",
        "import pandas as pd\n",
        "from sklearn.utils import resample\n",
        "from sklearn.ensemble import RandomForestClassifier\n",
        "from sklearn.metrics import accuracy_score, precision_score, recall_score, f1_score, matthews_corrcoef, confusion_matrix\n",
        "from sklearn.model_selection import train_test_split\n",
        "\n",
        "# Define the path to the directory containing the data files\n",
        "data_dir = \"/kaggle/input/data-q4-2023/\"\n",
        "\n",
        "# Define the path to store the processed data\n",
        "processed_data_dir = \"/kaggle/working/processed_data/\"\n",
        "\n",
        "# Create the directory if it does not exist\n",
        "os.makedirs(processed_data_dir, exist_ok=True)\n",
        "\n",
        "# Define chunk size for reading data\n",
        "chunk_size = 10000\n",
        "\n",
        "# Process each file individually and store the processed data\n",
        "for file_name in os.listdir(data_dir):\n",
        "    if file_name.endswith(\".csv\"):\n",
        "        file_path = os.path.join(data_dir, file_name)\n",
        "        df_chunks = pd.read_csv(file_path, chunksize=chunk_size)\n",
        "        for i, chunk in enumerate(df_chunks):\n",
        "            # Upsample the failure class if there are failures\n",
        "            valid = chunk[chunk['failure'] == 0]\n",
        "            failed = chunk[chunk['failure'] == 1]\n",
        "            if len(valid) > 0 and len(failed) > 0:\n",
        "                failed_up = resample(failed, replace=True, n_samples=len(valid), random_state=27)\n",
        "                chunk_processed = pd.concat([valid, failed_up])\n",
        "\n",
        "                # Drop irrelevant columns and handle missing values\n",
        "                features = ['date', 'serial_number', 'model', 'capacity_bytes', 'failure', 'smart_5_raw', 'smart_187_raw', 'smart_188_raw', 'smart_197_raw', 'smart_198_raw']\n",
        "                misc_feat = [fname for fname in chunk_processed if fname not in features]\n",
        "                chunk_processed.drop(misc_feat, inplace=True, axis=1)\n",
        "                chunk_processed['smart_187_raw'] = chunk_processed['smart_187_raw'].fillna(0)\n",
        "                chunk_processed['smart_5_raw'] = chunk_processed['smart_5_raw'].fillna(0)\n",
        "                chunk_processed['smart_188_raw'] = chunk_processed['smart_188_raw'].fillna(0)\n",
        "                chunk_processed['smart_197_raw'] = chunk_processed['smart_197_raw'].fillna(0)\n",
        "                chunk_processed['smart_198_raw'] = chunk_processed['smart_198_raw'].fillna(0)\n",
        "                chunk_processed = chunk_processed.drop('capacity_bytes', axis=1)\n",
        "                chunk_processed = chunk_processed.drop('model', axis=1)\n",
        "                chunk_processed = chunk_processed.drop('serial_number', axis=1)\n",
        "                chunk_processed = chunk_processed.drop('date', axis=1)\n",
        "\n",
        "                # Save the processed chunk to a file\n",
        "                processed_file_path = os.path.join(processed_data_dir, f\"{file_name.split('.')[0]}_{i}.csv\")\n",
        "                chunk_processed.to_csv(processed_file_path, index=False)\n",
        "\n",
        "# Load all processed files and concatenate them into a single DataFrame\n",
        "dfs = []\n",
        "for processed_file_name in os.listdir(processed_data_dir):\n",
        "    processed_file_path = os.path.join(processed_data_dir, processed_file_name)\n",
        "    df = pd.read_csv(processed_file_path)\n",
        "    dfs.append(df)\n",
        "\n",
        "df_all = pd.concat(dfs, ignore_index=True)\n",
        "\n",
        "# Split the data into training and testing sets\n",
        "X = df_all.drop('failure', axis=1)\n",
        "\n",
        "\n",
        "Y = df_all['failure']\n",
        "X_train, X_test, Y_train, Y_test = train_test_split(X, Y, test_size=0.2, random_state=42)\n",
        "\n",
        "# Train the Random Forest Classifier\n",
        "rfc = RandomForestClassifier()\n",
        "rfc.fit(X_train, Y_train)\n",
        "\n",
        "# Make predictions and evaluate the model\n",
        "Y_pred = rfc.predict(X_test)\n",
        "\n",
        "acc = accuracy_score(Y_test, Y_pred)\n",
        "prec = precision_score(Y_test, Y_pred)\n",
        "rec = recall_score(Y_test, Y_pred)\n",
        "f1 = f1_score(Y_test, Y_pred)\n",
        "mcc = matthews_corrcoef(Y_test, Y_pred)\n",
        "conf_matrix = confusion_matrix(Y_test, Y_pred)\n",
        "\n",
        "print(\"Model used is: Random Forest classifier\")\n",
        "print(\"The accuracy is {}\".format(acc))\n",
        "print(\"The precision is {}\".format(prec))\n",
        "print(\"The recall is {}\".format(rec))\n",
        "print(\"The F1-Score is {}\".format(f1))\n",
        "print(\"The Matthews correlation coefficient is {}\".format(mcc))\n",
        "print(\"Confusion Matrix:\")\n",
        "print(conf_matrix)\n"
      ]
    },
    {
      "cell_type": "code",
      "execution_count": null,
      "metadata": {
        "execution": {
          "iopub.execute_input": "2024-04-03T08:18:32.509286Z",
          "iopub.status.busy": "2024-04-03T08:18:32.507659Z",
          "iopub.status.idle": "2024-04-03T08:18:32.617503Z",
          "shell.execute_reply": "2024-04-03T08:18:32.616268Z",
          "shell.execute_reply.started": "2024-04-03T08:18:32.509222Z"
        },
        "id": "Bglyg8XMTrtF",
        "outputId": "a859d4b4-c75a-437a-f38c-7c202255077e",
        "trusted": true
      },
      "outputs": [
        {
          "data": {
            "text/plain": [
              "['random_forest_model_for_hard_disk.pkl']"
            ]
          },
          "execution_count": 2,
          "metadata": {},
          "output_type": "execute_result"
        }
      ],
      "source": [
        "import joblib\n",
        "\n",
        "# Save the model to a file\n",
        "joblib.dump(rfc, 'random_forest_model_for_hard_disk.pkl')\n",
        "\n",
        "# Later, you can load the model using:\n",
        "# loaded_model = joblib.load('random_forest_model.pkl')\n"
      ]
    },
    {
      "cell_type": "code",
      "execution_count": null,
      "metadata": {
        "execution": {
          "iopub.execute_input": "2024-04-03T08:21:23.554052Z",
          "iopub.status.busy": "2024-04-03T08:21:23.553629Z",
          "iopub.status.idle": "2024-04-03T08:21:24.925958Z",
          "shell.execute_reply": "2024-04-03T08:21:24.925099Z",
          "shell.execute_reply.started": "2024-04-03T08:21:23.554021Z"
        },
        "id": "wHuCfs-lTrtG",
        "outputId": "e9bca826-46fd-453c-ee22-fe754229fefd",
        "trusted": true
      },
      "outputs": [
        {
          "data": {
            "image/png": "[encoded data removed]",
            "text/plain": [
              "<Figure size 1200x1200 with 2 Axes>"
            ]
          },
          "metadata": {},
          "output_type": "display_data"
        }
      ],
      "source": [
        "import matplotlib.pyplot as plt\n",
        "import seaborn as sns\n",
        "\n",
        "LABELS = ['Normal', 'Failed']\n",
        "conf_matrix = confusion_matrix(Y_test, Y_pred)\n",
        "plt.figure(figsize=(12, 12))\n",
        "sns.heatmap(conf_matrix, xticklabels=LABELS,\n",
        "            yticklabels=LABELS, annot=True, fmt=\"d\");\n",
        "plt.title(\"Confusion matrix\")\n",
        "plt.ylabel('True class')\n",
        "plt.xlabel('Predicted class')\n",
        "plt.show()\n"
      ]
    },
    {
      "cell_type": "code",
      "execution_count": null,
      "metadata": {
        "execution": {
          "iopub.execute_input": "2024-04-03T08:24:25.214285Z",
          "iopub.status.busy": "2024-04-03T08:24:25.213791Z",
          "iopub.status.idle": "2024-04-03T08:24:57.89051Z",
          "shell.execute_reply": "2024-04-03T08:24:57.889265Z",
          "shell.execute_reply.started": "2024-04-03T08:24:25.214248Z"
        },
        "id": "BTY1g2I1TrtG",
        "outputId": "9ba6c75a-dab9-4d4a-f0e6-e4d1f4331567",
        "trusted": true
      },
      "outputs": [
        {
          "name": "stdout",
          "output_type": "stream",
          "text": [
            "[0 1 1 ... 0 0 1]\n"
          ]
        }
      ],
      "source": [
        "import joblib\n",
        "\n",
        "# Load the model from the file\n",
        "loaded_model = joblib.load('/kaggle/working/random_forest_model_for_hard_disk.pkl')\n",
        "\n",
        "# Now, you can use this loaded_model for predictions\n",
        "y_pred_loaded_model = loaded_model.predict(X_test)\n",
        "print(y_pred_loaded_model)"
      ]
    },
    {
      "cell_type": "code",
      "execution_count": null,
      "metadata": {
        "execution": {
          "iopub.execute_input": "2024-04-03T08:30:22.491753Z",
          "iopub.status.busy": "2024-04-03T08:30:22.49112Z",
          "iopub.status.idle": "2024-04-03T08:30:22.50168Z",
          "shell.execute_reply": "2024-04-03T08:30:22.500311Z",
          "shell.execute_reply.started": "2024-04-03T08:30:22.491722Z"
        },
        "id": "Mr6BuDbnTrtH",
        "outputId": "aa466819-10f2-40e8-d26e-75aebc49f075",
        "trusted": true
      },
      "outputs": [
        {
          "name": "stdout",
          "output_type": "stream",
          "text": [
            "<bound method NDFrame.head of           smart_5_raw  smart_187_raw  smart_188_raw  smart_197_raw  \\\n",
            "6939181           0.0            0.0            0.0            0.0   \n",
            "13275557          0.0           45.0       262151.0         1760.0   \n",
            "1632646         240.0            0.0            0.0            7.0   \n",
            "11213038         15.0            0.0            0.0          816.0   \n",
            "9144642          32.0           41.0       589833.0          648.0   \n",
            "...               ...            ...            ...            ...   \n",
            "799639            2.0            0.0            0.0            5.0   \n",
            "4467823          24.0            0.0            0.0            0.0   \n",
            "2073804           0.0            0.0            0.0            0.0   \n",
            "10387287          0.0            0.0            0.0            0.0   \n",
            "9578901        9432.0           25.0            0.0            0.0   \n",
            "\n",
            "          smart_198_raw  \n",
            "6939181             0.0  \n",
            "13275557         1760.0  \n",
            "1632646             0.0  \n",
            "11213038            0.0  \n",
            "9144642           648.0  \n",
            "...                 ...  \n",
            "799639             17.0  \n",
            "4467823             0.0  \n",
            "2073804             0.0  \n",
            "10387287            0.0  \n",
            "9578901             0.0  \n",
            "\n",
            "[2935214 rows x 5 columns]>\n"
          ]
        }
      ],
      "source": [
        "print(X_test.head)"
      ]
    },
    {
      "cell_type": "code",
      "execution_count": null,
      "metadata": {
        "execution": {
          "iopub.execute_input": "2024-04-03T08:56:12.119464Z",
          "iopub.status.busy": "2024-04-03T08:56:12.118518Z",
          "iopub.status.idle": "2024-04-03T08:56:45.178334Z",
          "shell.execute_reply": "2024-04-03T08:56:45.176742Z",
          "shell.execute_reply.started": "2024-04-03T08:56:12.119426Z"
        },
        "id": "D22SK2ncTrtH",
        "outputId": "b87fa842-4540-445e-a372-5e196bafda4f",
        "trusted": true
      },
      "outputs": [
        {
          "name": "stdout",
          "output_type": "stream",
          "text": [
            "[0 1 1 ... 0 0 1]\n"
          ]
        }
      ],
      "source": [
        "import joblib\n",
        "import pickle\n",
        "\n",
        "# Load the trained model using joblib\n",
        "loaded_model = joblib.load('random_forest_model_for_hard_disk.pkl')\n",
        "\n",
        "# Dump the model using pickle\n",
        "with open('random_forest_model_for_hard_disk.pkl', 'wb') as f:\n",
        "    pickle.dump(loaded_model, f)\n",
        "\n",
        "# Load the model using pickle to ensure compatibility\n",
        "with open('random_forest_model_for_hard_disk.pkl', 'rb') as f:\n",
        "    loaded_model_pickle = pickle.load(f)\n",
        "\n",
        "# Now, you can use loaded_model_pickle for predictions\n",
        "y_pred_loaded_model = loaded_model_pickle.predict(X_test)\n",
        "print(y_pred_loaded_model)\n"
      ]
    },
    {
      "cell_type": "code",
      "execution_count": null,
      "metadata": {
        "execution": {
          "iopub.execute_input": "2024-04-03T09:00:23.639036Z",
          "iopub.status.busy": "2024-04-03T09:00:23.638306Z",
          "iopub.status.idle": "2024-04-03T09:00:29.994526Z",
          "shell.execute_reply": "2024-04-03T09:00:29.993715Z",
          "shell.execute_reply.started": "2024-04-03T09:00:23.639003Z"
        },
        "id": "4UUYhbrmTrtI",
        "outputId": "ab1d1a7a-f10b-4d81-c10f-e4d5f645346a",
        "trusted": true
      },
      "outputs": [
        {
          "name": "stdout",
          "output_type": "stream",
          "text": [
            "Enter the value of smart_5_raw:  0\n",
            "Enter the value of smart_187_raw:  0\n",
            "Enter the value of smart_188_raw:  0\n",
            "Enter the value of smart_197_raw:  0\n",
            "Enter the value of smart_198_raw:  0\n"
          ]
        },
        {
          "name": "stdout",
          "output_type": "stream",
          "text": [
            "The hard disk is predicted to be normal.\n"
          ]
        }
      ],
      "source": [
        "with open('random_forest_model_for_hard_disk.pkl', 'rb') as f:\n",
        "    loaded_model = pickle.load(f)\n",
        "\n",
        "# Define a function to take user inputs and make predictions\n",
        "def predict_hard_disk_failure():\n",
        "    # Ask the user for input features\n",
        "    smart_5_raw = float(input(\"Enter the value of smart_5_raw: \"))\n",
        "    smart_187_raw = float(input(\"Enter the value of smart_187_raw: \"))\n",
        "    smart_188_raw = float(input(\"Enter the value of smart_188_raw: \"))\n",
        "    smart_197_raw = float(input(\"Enter the value of smart_197_raw: \"))\n",
        "    smart_198_raw = float(input(\"Enter the value of smart_198_raw: \"))\n",
        "\n",
        "    # Create a DataFrame with the user inputs\n",
        "    input_data = {\n",
        "        'smart_5_raw': [smart_5_raw],\n",
        "        'smart_187_raw': [smart_187_raw],\n",
        "        'smart_188_raw': [smart_188_raw],\n",
        "        'smart_197_raw': [smart_197_raw],\n",
        "        'smart_198_raw': [smart_198_raw]\n",
        "    }\n",
        "    input_df = pd.DataFrame(input_data)\n",
        "\n",
        "    # Make a prediction using the loaded model\n",
        "    prediction = loaded_model.predict(input_df)[0]\n",
        "\n",
        "    # Display the prediction\n",
        "    if prediction == 0:\n",
        "        print(\"The hard disk is predicted to be normal.\")\n",
        "    else:\n",
        "        print(\"The hard disk is predicted to fail.\")\n",
        "\n",
        "# Call the function to make predictions based on user inputs\n",
        "predict_hard_disk_failure()"
      ]
    }
  ],
  "metadata": {
    "colab": {
      "provenance": []
    },
    "kaggle": {
      "accelerator": "none",
      "dataSources": [
        {
          "datasetId": 4720831,
          "sourceId": 8013154,
          "sourceType": "datasetVersion"
        }
      ],
      "dockerImageVersionId": 30673,
      "isGpuEnabled": false,
      "isInternetEnabled": true,
      "language": "python",
      "sourceType": "notebook"
    },
    "kernelspec": {
      "display_name": "Python 3",
      "language": "python",
      "name": "python3"
    },
    "language_info": {
      "codemirror_mode": {
        "name": "ipython",
        "version": 3
      },
      "file_extension": ".py",
      "mimetype": "text/x-python",
      "name": "python",
      "nbconvert_exporter": "python",
      "pygments_lexer": "ipython3",
      "version": "3.10.13"
    }
  },
  "nbformat": 4,
  "nbformat_minor": 0
}
